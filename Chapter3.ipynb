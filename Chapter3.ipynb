{
 "cells": [
  {
   "cell_type": "markdown",
   "source": [],
   "metadata": {
    "collapsed": false
   }
  },
  {
   "cell_type": "markdown",
   "source": [
    "Exponentiation Python uses ** for exponentiation. The caret, ^, is used for something else.\n",
    "Integer division The integer division operator, //, requires some explanation. Basically, for positive\n",
    "numbers it behaves like ordinary division except that it throws away the decimal part of the\n",
    "result. For instance, while 8/5 is 1.6, we have 8//5 equal to 1"
   ],
   "metadata": {
    "collapsed": false
   }
  },
  {
   "cell_type": "code",
   "execution_count": null,
   "metadata": {
    "collapsed": true,
    "is_executing": true
   },
   "outputs": [],
   "source": [
    "print(8//7)"
   ]
  },
  {
   "cell_type": "markdown",
   "source": [
    "## Generating a random number from a module = from random import randint\n",
    "## Generating sinosoidal signs and pi from a math module = from math import sin, pi"
   ],
   "metadata": {
    "collapsed": false
   }
  },
  {
   "cell_type": "markdown",
   "source": [
    "Built-in math functions There are two built in math functions, abs (absolute value) and round\n",
    "that are available without importing the math module. Here are some examples:\n",
    "print(abs(-4.3))\n",
    "print(round(3.336, 2))\n",
    "print(round(345.2, -1))"
   ],
   "metadata": {
    "collapsed": false
   }
  }
 ],
 "metadata": {
  "kernelspec": {
   "display_name": "Python 3",
   "language": "python",
   "name": "python3"
  },
  "language_info": {
   "codemirror_mode": {
    "name": "ipython",
    "version": 2
   },
   "file_extension": ".py",
   "mimetype": "text/x-python",
   "name": "python",
   "nbconvert_exporter": "python",
   "pygments_lexer": "ipython2",
   "version": "2.7.6"
  }
 },
 "nbformat": 4,
 "nbformat_minor": 0
}
